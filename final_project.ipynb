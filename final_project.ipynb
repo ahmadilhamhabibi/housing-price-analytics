{
 "cells": [
  {
   "cell_type": "markdown",
   "id": "e33b021e",
   "metadata": {},
   "source": [
    "## Import Library"
   ]
  },
  {
   "cell_type": "code",
   "execution_count": 1,
   "id": "a3717cb0",
   "metadata": {},
   "outputs": [],
   "source": [
    "import pandas as pd\n",
    "import numpy as np\n",
    "import seaborn as sns\n",
    "import matplotlib.pyplot as plt\n",
    "import numpy as np\n",
    "import scipy.stats as stats\n",
    "from scipy.stats import chi2_contingency\n",
    "from sklearn.linear_model import LinearRegression\n",
    "from sklearn.model_selection import train_test_split\n",
    "from sklearn.metrics import mean_squared_error, r2_score\n",
    "import statsmodels.formula.api as smf\n",
    "from sklearn.preprocessing import LabelEncoder"
   ]
  },
  {
   "cell_type": "markdown",
   "id": "54ccca37",
   "metadata": {},
   "source": [
    "## Load Dataset"
   ]
  },
  {
   "cell_type": "code",
   "execution_count": 2,
   "id": "1f45fb51",
   "metadata": {},
   "outputs": [],
   "source": [
    "# Load the dataset\n",
    "data = pd.read_csv('Housing.csv')"
   ]
  },
  {
   "cell_type": "code",
   "execution_count": 3,
   "id": "89b7d9a5",
   "metadata": {},
   "outputs": [
    {
     "data": {
      "text/html": [
       "<div>\n",
       "<style scoped>\n",
       "    .dataframe tbody tr th:only-of-type {\n",
       "        vertical-align: middle;\n",
       "    }\n",
       "\n",
       "    .dataframe tbody tr th {\n",
       "        vertical-align: top;\n",
       "    }\n",
       "\n",
       "    .dataframe thead th {\n",
       "        text-align: right;\n",
       "    }\n",
       "</style>\n",
       "<table border=\"1\" class=\"dataframe\">\n",
       "  <thead>\n",
       "    <tr style=\"text-align: right;\">\n",
       "      <th></th>\n",
       "      <th>price</th>\n",
       "      <th>area</th>\n",
       "      <th>bedrooms</th>\n",
       "      <th>bathrooms</th>\n",
       "      <th>stories</th>\n",
       "      <th>mainroad</th>\n",
       "      <th>guestroom</th>\n",
       "      <th>basement</th>\n",
       "      <th>hotwaterheating</th>\n",
       "      <th>airconditioning</th>\n",
       "      <th>parking</th>\n",
       "      <th>prefarea</th>\n",
       "      <th>furnishingstatus</th>\n",
       "    </tr>\n",
       "  </thead>\n",
       "  <tbody>\n",
       "    <tr>\n",
       "      <th>0</th>\n",
       "      <td>13300000</td>\n",
       "      <td>7420</td>\n",
       "      <td>4</td>\n",
       "      <td>2</td>\n",
       "      <td>3</td>\n",
       "      <td>yes</td>\n",
       "      <td>no</td>\n",
       "      <td>no</td>\n",
       "      <td>no</td>\n",
       "      <td>yes</td>\n",
       "      <td>2</td>\n",
       "      <td>yes</td>\n",
       "      <td>furnished</td>\n",
       "    </tr>\n",
       "    <tr>\n",
       "      <th>1</th>\n",
       "      <td>12250000</td>\n",
       "      <td>8960</td>\n",
       "      <td>4</td>\n",
       "      <td>4</td>\n",
       "      <td>4</td>\n",
       "      <td>yes</td>\n",
       "      <td>no</td>\n",
       "      <td>no</td>\n",
       "      <td>no</td>\n",
       "      <td>yes</td>\n",
       "      <td>3</td>\n",
       "      <td>no</td>\n",
       "      <td>furnished</td>\n",
       "    </tr>\n",
       "    <tr>\n",
       "      <th>2</th>\n",
       "      <td>12250000</td>\n",
       "      <td>9960</td>\n",
       "      <td>3</td>\n",
       "      <td>2</td>\n",
       "      <td>2</td>\n",
       "      <td>yes</td>\n",
       "      <td>no</td>\n",
       "      <td>yes</td>\n",
       "      <td>no</td>\n",
       "      <td>no</td>\n",
       "      <td>2</td>\n",
       "      <td>yes</td>\n",
       "      <td>semi-furnished</td>\n",
       "    </tr>\n",
       "    <tr>\n",
       "      <th>3</th>\n",
       "      <td>12215000</td>\n",
       "      <td>7500</td>\n",
       "      <td>4</td>\n",
       "      <td>2</td>\n",
       "      <td>2</td>\n",
       "      <td>yes</td>\n",
       "      <td>no</td>\n",
       "      <td>yes</td>\n",
       "      <td>no</td>\n",
       "      <td>yes</td>\n",
       "      <td>3</td>\n",
       "      <td>yes</td>\n",
       "      <td>furnished</td>\n",
       "    </tr>\n",
       "    <tr>\n",
       "      <th>4</th>\n",
       "      <td>11410000</td>\n",
       "      <td>7420</td>\n",
       "      <td>4</td>\n",
       "      <td>1</td>\n",
       "      <td>2</td>\n",
       "      <td>yes</td>\n",
       "      <td>yes</td>\n",
       "      <td>yes</td>\n",
       "      <td>no</td>\n",
       "      <td>yes</td>\n",
       "      <td>2</td>\n",
       "      <td>no</td>\n",
       "      <td>furnished</td>\n",
       "    </tr>\n",
       "  </tbody>\n",
       "</table>\n",
       "</div>"
      ],
      "text/plain": [
       "      price  area  bedrooms  bathrooms  stories mainroad guestroom basement  \\\n",
       "0  13300000  7420         4          2        3      yes        no       no   \n",
       "1  12250000  8960         4          4        4      yes        no       no   \n",
       "2  12250000  9960         3          2        2      yes        no      yes   \n",
       "3  12215000  7500         4          2        2      yes        no      yes   \n",
       "4  11410000  7420         4          1        2      yes       yes      yes   \n",
       "\n",
       "  hotwaterheating airconditioning  parking prefarea furnishingstatus  \n",
       "0              no             yes        2      yes        furnished  \n",
       "1              no             yes        3       no        furnished  \n",
       "2              no              no        2      yes   semi-furnished  \n",
       "3              no             yes        3      yes        furnished  \n",
       "4              no             yes        2       no        furnished  "
      ]
     },
     "execution_count": 3,
     "metadata": {},
     "output_type": "execute_result"
    }
   ],
   "source": [
    "# Explore the dataset\n",
    "data.head()"
   ]
  },
  {
   "cell_type": "code",
   "execution_count": 4,
   "id": "a6480475",
   "metadata": {},
   "outputs": [
    {
     "name": "stdout",
     "output_type": "stream",
     "text": [
      "<class 'pandas.core.frame.DataFrame'>\n",
      "RangeIndex: 545 entries, 0 to 544\n",
      "Data columns (total 13 columns):\n",
      " #   Column            Non-Null Count  Dtype \n",
      "---  ------            --------------  ----- \n",
      " 0   price             545 non-null    int64 \n",
      " 1   area              545 non-null    int64 \n",
      " 2   bedrooms          545 non-null    int64 \n",
      " 3   bathrooms         545 non-null    int64 \n",
      " 4   stories           545 non-null    int64 \n",
      " 5   mainroad          545 non-null    object\n",
      " 6   guestroom         545 non-null    object\n",
      " 7   basement          545 non-null    object\n",
      " 8   hotwaterheating   545 non-null    object\n",
      " 9   airconditioning   545 non-null    object\n",
      " 10  parking           545 non-null    int64 \n",
      " 11  prefarea          545 non-null    object\n",
      " 12  furnishingstatus  545 non-null    object\n",
      "dtypes: int64(6), object(7)\n",
      "memory usage: 55.5+ KB\n"
     ]
    }
   ],
   "source": [
    "# Explore the dataset\n",
    "data.info()"
   ]
  },
  {
   "cell_type": "code",
   "execution_count": 5,
   "id": "abacffc6",
   "metadata": {},
   "outputs": [
    {
     "data": {
      "text/html": [
       "<div>\n",
       "<style scoped>\n",
       "    .dataframe tbody tr th:only-of-type {\n",
       "        vertical-align: middle;\n",
       "    }\n",
       "\n",
       "    .dataframe tbody tr th {\n",
       "        vertical-align: top;\n",
       "    }\n",
       "\n",
       "    .dataframe thead th {\n",
       "        text-align: right;\n",
       "    }\n",
       "</style>\n",
       "<table border=\"1\" class=\"dataframe\">\n",
       "  <thead>\n",
       "    <tr style=\"text-align: right;\">\n",
       "      <th></th>\n",
       "      <th>price</th>\n",
       "      <th>area</th>\n",
       "      <th>bedrooms</th>\n",
       "      <th>bathrooms</th>\n",
       "      <th>stories</th>\n",
       "      <th>parking</th>\n",
       "    </tr>\n",
       "  </thead>\n",
       "  <tbody>\n",
       "    <tr>\n",
       "      <th>count</th>\n",
       "      <td>5.450000e+02</td>\n",
       "      <td>545.000000</td>\n",
       "      <td>545.000000</td>\n",
       "      <td>545.000000</td>\n",
       "      <td>545.000000</td>\n",
       "      <td>545.000000</td>\n",
       "    </tr>\n",
       "    <tr>\n",
       "      <th>mean</th>\n",
       "      <td>4.766729e+06</td>\n",
       "      <td>5150.541284</td>\n",
       "      <td>2.965138</td>\n",
       "      <td>1.286239</td>\n",
       "      <td>1.805505</td>\n",
       "      <td>0.693578</td>\n",
       "    </tr>\n",
       "    <tr>\n",
       "      <th>std</th>\n",
       "      <td>1.870440e+06</td>\n",
       "      <td>2170.141023</td>\n",
       "      <td>0.738064</td>\n",
       "      <td>0.502470</td>\n",
       "      <td>0.867492</td>\n",
       "      <td>0.861586</td>\n",
       "    </tr>\n",
       "    <tr>\n",
       "      <th>min</th>\n",
       "      <td>1.750000e+06</td>\n",
       "      <td>1650.000000</td>\n",
       "      <td>1.000000</td>\n",
       "      <td>1.000000</td>\n",
       "      <td>1.000000</td>\n",
       "      <td>0.000000</td>\n",
       "    </tr>\n",
       "    <tr>\n",
       "      <th>25%</th>\n",
       "      <td>3.430000e+06</td>\n",
       "      <td>3600.000000</td>\n",
       "      <td>2.000000</td>\n",
       "      <td>1.000000</td>\n",
       "      <td>1.000000</td>\n",
       "      <td>0.000000</td>\n",
       "    </tr>\n",
       "    <tr>\n",
       "      <th>50%</th>\n",
       "      <td>4.340000e+06</td>\n",
       "      <td>4600.000000</td>\n",
       "      <td>3.000000</td>\n",
       "      <td>1.000000</td>\n",
       "      <td>2.000000</td>\n",
       "      <td>0.000000</td>\n",
       "    </tr>\n",
       "    <tr>\n",
       "      <th>75%</th>\n",
       "      <td>5.740000e+06</td>\n",
       "      <td>6360.000000</td>\n",
       "      <td>3.000000</td>\n",
       "      <td>2.000000</td>\n",
       "      <td>2.000000</td>\n",
       "      <td>1.000000</td>\n",
       "    </tr>\n",
       "    <tr>\n",
       "      <th>max</th>\n",
       "      <td>1.330000e+07</td>\n",
       "      <td>16200.000000</td>\n",
       "      <td>6.000000</td>\n",
       "      <td>4.000000</td>\n",
       "      <td>4.000000</td>\n",
       "      <td>3.000000</td>\n",
       "    </tr>\n",
       "  </tbody>\n",
       "</table>\n",
       "</div>"
      ],
      "text/plain": [
       "              price          area    bedrooms   bathrooms     stories  \\\n",
       "count  5.450000e+02    545.000000  545.000000  545.000000  545.000000   \n",
       "mean   4.766729e+06   5150.541284    2.965138    1.286239    1.805505   \n",
       "std    1.870440e+06   2170.141023    0.738064    0.502470    0.867492   \n",
       "min    1.750000e+06   1650.000000    1.000000    1.000000    1.000000   \n",
       "25%    3.430000e+06   3600.000000    2.000000    1.000000    1.000000   \n",
       "50%    4.340000e+06   4600.000000    3.000000    1.000000    2.000000   \n",
       "75%    5.740000e+06   6360.000000    3.000000    2.000000    2.000000   \n",
       "max    1.330000e+07  16200.000000    6.000000    4.000000    4.000000   \n",
       "\n",
       "          parking  \n",
       "count  545.000000  \n",
       "mean     0.693578  \n",
       "std      0.861586  \n",
       "min      0.000000  \n",
       "25%      0.000000  \n",
       "50%      0.000000  \n",
       "75%      1.000000  \n",
       "max      3.000000  "
      ]
     },
     "execution_count": 5,
     "metadata": {},
     "output_type": "execute_result"
    }
   ],
   "source": [
    "# Explore the dataset\n",
    "data.describe()"
   ]
  },
  {
   "cell_type": "code",
   "execution_count": 6,
   "id": "8bb142da",
   "metadata": {
    "scrolled": false
   },
   "outputs": [
    {
     "data": {
      "text/plain": [
       "price               0\n",
       "area                0\n",
       "bedrooms            0\n",
       "bathrooms           0\n",
       "stories             0\n",
       "mainroad            0\n",
       "guestroom           0\n",
       "basement            0\n",
       "hotwaterheating     0\n",
       "airconditioning     0\n",
       "parking             0\n",
       "prefarea            0\n",
       "furnishingstatus    0\n",
       "dtype: int64"
      ]
     },
     "execution_count": 6,
     "metadata": {},
     "output_type": "execute_result"
    }
   ],
   "source": [
    "# Explore the dataset\n",
    "data.isnull().sum()"
   ]
  },
  {
   "cell_type": "markdown",
   "id": "6ff59cb2",
   "metadata": {},
   "source": [
    "## Performing Statistical Test"
   ]
  },
  {
   "cell_type": "markdown",
   "id": "381e4db5",
   "metadata": {},
   "source": [
    "### 1. Apakah harga rata-rata dari properti di area ini lebih dari 6.000.000?\n",
    "\n",
    "Hipotesis Nol (H0): μ = 6,000,000 (Harga rata-rata sama dengan 6,000,000) <br>\n",
    "Hipotesis Alternatif (H1): μ > 6,000,000 (Harga rata-rata lebih dari 6,000,000)\n",
    "\n",
    "Uji statistik yang sesuai (misalnya, Uji t atau Uji Z)\n"
   ]
  },
  {
   "cell_type": "code",
   "execution_count": 7,
   "id": "47e63612",
   "metadata": {},
   "outputs": [
    {
     "name": "stdout",
     "output_type": "stream",
     "text": [
      "Jumlah data: 545\n",
      "------------------------------------------------------------\n",
      "rata-rata sampel: 4766729.2477\n",
      "standar deviasi sampel: 1870439.6157\n",
      "------------------------------------------------------------\n",
      "alpha: 0.05\n",
      "nilai uji t-statistic: -15.3926\n",
      "nilai critical: 1.6477\n",
      "------------------------------------------------------------\n",
      "Tidak cukup bukti untuk menolak H0. Rata-rata harga properti sama dengan atau kurang dari 6,000,000.\n"
     ]
    }
   ],
   "source": [
    "# data harga\n",
    "price = data.price\n",
    "\n",
    "n = len(price)  # Jumlah sampel\n",
    "print(f\"Jumlah data: {n}\")\n",
    "print(\"--\"*30)\n",
    "\n",
    "# menghitung rata-rata sampel dan standar deviasi\n",
    "mean_sample = np.mean(price)\n",
    "std_dev_sample = np.std(price, ddof=1)  # ddof=1 untuk menghitung standar deviasi sampel\n",
    "print(f\"rata-rata sampel: {mean_sample:.4f}\")\n",
    "print(f\"standar deviasi sampel: {std_dev_sample:.4f}\")\n",
    "print(\"--\"*30)\n",
    "\n",
    "alpha = 0.05\n",
    "print(f\"alpha: {alpha}\")\n",
    "\n",
    "# Hitung statistik uji t\n",
    "t_statistic = (mean_sample - 6000000) / (std_dev_sample / np.sqrt(n))\n",
    "print(f\"nilai uji t-statistic: {t_statistic:.4f}\")\n",
    "\n",
    "# degree of freedom\n",
    "df = n - 1\n",
    "\n",
    "# menghitung nilai kritis\n",
    "t_critical = stats.t.ppf(1 - alpha, df)\n",
    "print(f\"nilai critical: {t_critical:.4f}\")\n",
    "print(\"--\"*30)\n",
    "\n",
    "\n",
    "# uji statistic t dengan nilai kritis \n",
    "if t_statistic > t_critical:\n",
    "    print(\"Tolak H0. Rata-rata harga properti lebih dari 6,000,000.\")\n",
    "else:\n",
    "    print(\"Tidak cukup bukti untuk menolak H0. Rata-rata harga properti sama dengan atau kurang dari 6,000,000.\")"
   ]
  },
  {
   "cell_type": "markdown",
   "id": "e8de3b78",
   "metadata": {},
   "source": [
    "#### Konfirmasi nilai rata-rata price menggunakan visualisasi"
   ]
  },
  {
   "cell_type": "code",
   "execution_count": 8,
   "id": "9180c32d",
   "metadata": {},
   "outputs": [
    {
     "data": {
      "image/png": "[encoded data removed]",
      "text/plain": [
       "<Figure size 720x432 with 1 Axes>"
      ]
     },
     "metadata": {
      "needs_background": "light"
     },
     "output_type": "display_data"
    }
   ],
   "source": [
    "# Distribusi data pada kolom 'price' dengan marker pada nilai mean\n",
    "plt.figure(figsize=(10, 6))\n",
    "plt.hist(data['price'], bins=30, edgecolor='k', alpha=0.7, color='skyblue')\n",
    "\n",
    "# Hitung nilai mean\n",
    "mean_price = data['price'].mean()\n",
    "\n",
    "# Tambahkan marker pada nilai mean\n",
    "plt.axvline(mean_price, color='red', linestyle='dashed', linewidth=2, label=f'Mean Price: {mean_price:.2f}')\n",
    "\n",
    "plt.title('Distribusi Data Harga Properti dengan Marker Mean')\n",
    "plt.xlabel('Harga')\n",
    "plt.ylabel('Jumlah Properti')\n",
    "plt.legend()\n",
    "plt.grid(True)\n",
    "plt.savefig(\"uji-rata2harga.png\", bbox_inches =\"tight\")\n",
    "plt.show()\n"
   ]
  },
  {
   "cell_type": "markdown",
   "id": "08a18102",
   "metadata": {},
   "source": [
    "### 2. Apakah proporsi properti yang memiliki AC (Air Conditioning) lebih dari 50%?\n",
    "\n",
    "Hipotesis Nol (H0): p <= 0.50 (Proporsi properti dengan AC kurang dari atau sama dengan 50%) <br>\n",
    "Hipotesis Alternatif (H1): p > 0.50 (Proporsi properti dengan AC lebih dari 50%)\n",
    "\n",
    "Uji statistik menggunakan Uji Z dan alpha 0.05"
   ]
  },
  {
   "cell_type": "code",
   "execution_count": 9,
   "id": "732da9fd",
   "metadata": {},
   "outputs": [
    {
     "name": "stdout",
     "output_type": "stream",
     "text": [
      "rata-rata sampel: 0.3156\n",
      "standar deviasi: 0.0199\n",
      "------------------------------------------------------------\n",
      "alpha: 0.05\n",
      "nilai uji z-statistics: -9.2629\n",
      "nilai z-critical: 1.6449\n",
      "------------------------------------------------------------\n",
      "Tidak cukup bukti untuk menolak H0. Proporsi properti dengan AC kurang dari atau sama dengan 50%.\n"
     ]
    }
   ],
   "source": [
    "# menyiapkan data ac\n",
    "data_ac = data.airconditioning.replace({'yes': 1, 'no': 0})\n",
    "\n",
    "# rata-rata dan standar deviasi\n",
    "p_sample = np.mean(data_ac)\n",
    "std_dev_sample = np.sqrt((p_sample * (1 - p_sample)) / len(data_ac))\n",
    "print(f\"rata-rata sampel: {p_sample:.4f}\")\n",
    "print(f\"standar deviasi: {std_dev_sample:.4f}\")\n",
    "print(\"--\"*30)\n",
    "\n",
    "# hitung statistic uji Z\n",
    "p_null = 0.50  # Nilai hipotesis nol\n",
    "z_statistic = (p_sample - p_null) / std_dev_sample\n",
    "\n",
    "# hitung nilai kritis\n",
    "alpha = 0.05\n",
    "z_critical = stats.norm.ppf(1 - alpha)\n",
    "print(f\"alpha: {alpha}\")\n",
    "print(f\"nilai uji z-statistics: {z_statistic:.4f}\")\n",
    "print(f\"nilai z-critical: {z_critical:.4f}\")\n",
    "print(\"--\"*30)\n",
    "\n",
    "# pengujian hipotesis\n",
    "if z_statistic > z_critical:\n",
    "    print(\"Tolak H0. Proporsi properti dengan AC lebih dari 50%.\")\n",
    "else:\n",
    "    print(\"Tidak cukup bukti untuk menolak H0. Proporsi properti dengan AC kurang dari atau sama dengan 50%.\")\n"
   ]
  },
  {
   "cell_type": "markdown",
   "id": "b570a905",
   "metadata": {},
   "source": [
    "#### Konfirmasi perbandingan komposisi AC dan tanpa AC menggunakan visualisasi"
   ]
  },
  {
   "cell_type": "code",
   "execution_count": 10,
   "id": "ba43268a",
   "metadata": {
    "scrolled": true
   },
   "outputs": [
    {
     "data": {
      "image/png": "[encoded data removed]",
      "text/plain": [
       "<Figure size 360x360 with 1 Axes>"
      ]
     },
     "metadata": {},
     "output_type": "display_data"
    }
   ],
   "source": [
    "# Hitung jumlah setiap kategori\n",
    "counts = data['airconditioning'].value_counts()\n",
    "\n",
    "# Plot grafik pie\n",
    "plt.figure(figsize=(5, 5))\n",
    "plt.pie(counts, labels=counts.index, autopct='%1.1f%%', startangle=140)\n",
    "plt.title('Proporsi Data Kolom Air Conditioning')\n",
    "plt.show()\n"
   ]
  },
  {
   "cell_type": "markdown",
   "id": "d7237867",
   "metadata": {},
   "source": [
    "### 3. Apakah harga rata-rata properti dengan dan tanpa AC berbeda signifikan?\n",
    "\n",
    "Hipotesis Nol (H0): μ1 = μ2 (Tidak ada perbedaan harga rata-rata antara properti dengan AC dan tanpa AC) <br>\n",
    "Hipotesis Alternatif (H1): μ1 ≠ μ2 (Ada perbedaan harga rata-rata antara properti dengan AC dan tanpa AC)\n",
    "\n",
    "Uji statistik menggunakan Uji t dan alpha = 0.05\n"
   ]
  },
  {
   "cell_type": "code",
   "execution_count": 11,
   "id": "2ac0e096",
   "metadata": {},
   "outputs": [
    {
     "name": "stdout",
     "output_type": "stream",
     "text": [
      "jumlah data dengan AC: 172\n",
      "rata-rata sampel dengan AC: 6013220.5814\n",
      "standar deviasi dengan AC: 1998149.4750\n",
      "------------------------------------------------------------\n",
      "jumlah data tanpa AC: 373\n",
      "rata-rata sampel tanpa AC: 4191939.6783\n",
      "standar deviasi tanpa AC: 1493711.7610\n",
      "------------------------------------------------------------\n",
      "alpha: 0.05\n",
      "nilai uji t-statistic: 10.65924416552892\n",
      "nilai t-critical: 1.9643423968425016\n",
      "------------------------------------------------------------\n",
      "Tolak H0. Ada perbedaan harga rata-rata antara properti dengan AC dan tanpa AC.\n"
     ]
    }
   ],
   "source": [
    "# harga properti yang memiliki garasi\n",
    "harga_AC = data[data['airconditioning'] == \"yes\"]['price']\n",
    "\n",
    "# harga properti yang tidak memiliki garasi\n",
    "harga_tanpa_AC = data[data['airconditioning'] == \"no\"]['price']\n",
    "\n",
    "n1 = len(harga_AC)\n",
    "n2 = len(harga_tanpa_AC)\n",
    "\n",
    "# hitung rata-rata dan standar deviasi dari kedua data\n",
    "mean_AC = np.mean(harga_AC)\n",
    "std_dev_AC = np.std(harga_AC, ddof=1)  # ddof=1 untuk menghitung standar deviasi sampel\n",
    "print(f\"jumlah data dengan AC: {n1}\")\n",
    "print(f\"rata-rata sampel dengan AC: {mean_AC:.4f}\")\n",
    "print(f\"standar deviasi dengan AC: {std_dev_AC:.4f}\")\n",
    "print(\"--\"*30)\n",
    "\n",
    "mean_tanpa_AC = np.mean(harga_tanpa_AC)\n",
    "std_dev_tanpa_AC = np.std(harga_tanpa_AC, ddof=1)\n",
    "print(f\"jumlah data tanpa AC: {n2}\")\n",
    "print(f\"rata-rata sampel tanpa AC: {mean_tanpa_AC:.4f}\")\n",
    "print(f\"standar deviasi tanpa AC: {std_dev_tanpa_AC:.4f}\")\n",
    "print(\"--\"*30)\n",
    "\n",
    "\n",
    "\n",
    "# statistic uji t\n",
    "t_statistic = (mean_AC - mean_tanpa_AC) / np.sqrt((std_dev_AC**2 / n1) + (std_dev_tanpa_AC**2 / n2))\n",
    "\n",
    "degree_of_freedom = n1 + n2 - 2  # Derajat kebebasan\n",
    "\n",
    "alpha = 0.05\n",
    "t_critical = stats.t.ppf(1 - alpha / 2, degree_of_freedom)\n",
    "print(f\"alpha: {alpha}\")\n",
    "print(f\"nilai uji t-statistic: {t_statistic}\")\n",
    "print(f\"nilai t-critical: {t_critical}\")\n",
    "print(f\"--\"*30)\n",
    "\n",
    "# uji hipotesis\n",
    "if abs(t_statistic) > t_critical:\n",
    "    print(\"Tolak H0. Ada perbedaan harga rata-rata antara properti dengan AC dan tanpa AC.\")\n",
    "else:\n",
    "    print(\"Tidak cukup bukti untuk menolak H0. Tidak ada perbedaan harga rata-rata antara properti dengan AC dan tanpa AC.\")\n"
   ]
  },
  {
   "cell_type": "markdown",
   "id": "569c9825",
   "metadata": {},
   "source": [
    "#### Konfirmasi perbedaan harga AC dan tanpa AC menggunakan visualisasi"
   ]
  },
  {
   "cell_type": "code",
   "execution_count": 12,
   "id": "c56f71da",
   "metadata": {
    "scrolled": true
   },
   "outputs": [
    {
     "data": {
      "image/png": "[encoded data removed]",
      "text/plain": [
       "<Figure size 432x288 with 1 Axes>"
      ]
     },
     "metadata": {
      "needs_background": "light"
     },
     "output_type": "display_data"
    }
   ],
   "source": [
    "# Membuat plot visualisasi\n",
    "kategori = ['Properti dengan Garasi', 'Properti tanpa Garasi']\n",
    "rata_rata_harga = [np.mean(harga_AC), np.mean(harga_tanpa_AC)]\n",
    "\n",
    "plt.figure(figsize=(6, 4))\n",
    "bars = plt.bar(kategori, rata_rata_harga, color=['blue', 'green'])\n",
    "\n",
    "# Menambahkan label pada tiap batang\n",
    "for bar, nilai in zip(bars, rata_rata_harga):\n",
    "    plt.text(bar.get_x() + bar.get_width() / 2, nilai + 100000, str(int(nilai)), ha='center', color='black', fontsize=12)\n",
    "\n",
    "plt.title('Rata-rata Harga Properti dengan dan tanpa AC')\n",
    "plt.ylabel('Harga Rata-rata')\n",
    "plt.ylim(0, max(rata_rata_harga) + 500000)  # Sesuaikan batas atas sumbu y sesuai kebutuhan\n",
    "plt.tight_layout()\n",
    "\n",
    "plt.show()\n"
   ]
  },
  {
   "cell_type": "markdown",
   "id": "05016d82",
   "metadata": {},
   "source": [
    "### 4. Apakah harga rata-rata properti tiap furnishing status berbeda signifikan?\n",
    "\n",
    "Hipotesis Nol (H0): Tidak ada perbedaan harga rata-rata antara ketiga kelompok furnishing status (\"Furnished\", \"Semi-Furnished\", dan \"Unfurnished\"). <br>\n",
    "Hipotesis Alternatif (H1): Ada perbedaan harga rata-rata antara setidaknya satu pasang kelompok furnishing status.\n",
    "\n",
    "Uji statistic menggunakan ANOVA, alpha = 0.05"
   ]
  },
  {
   "cell_type": "code",
   "execution_count": 13,
   "id": "dfa28da6",
   "metadata": {},
   "outputs": [
    {
     "data": {
      "text/plain": [
       "semi-furnished    227\n",
       "unfurnished       178\n",
       "furnished         140\n",
       "Name: furnishingstatus, dtype: int64"
      ]
     },
     "execution_count": 13,
     "metadata": {},
     "output_type": "execute_result"
    }
   ],
   "source": [
    "data.furnishingstatus.value_counts()"
   ]
  },
  {
   "cell_type": "code",
   "execution_count": 14,
   "id": "df617a4a",
   "metadata": {
    "scrolled": false
   },
   "outputs": [
    {
     "name": "stdout",
     "output_type": "stream",
     "text": [
      "F-statistic: 28.27\n",
      "p-value: 0.0000\n",
      "alpha: 0.05\n",
      "------------------------------------------------------------\n",
      "Tolak H0. Ada perbedaan harga rata-rata yang signifikan antara kelompok furnishing status.\n"
     ]
    }
   ],
   "source": [
    "# Pisahkan data menjadi tiga kelompok berdasarkan FurnishingStatus\n",
    "furnished = data[data['furnishingstatus'] == 'furnished']['price']\n",
    "semi_furnished = data[data['furnishingstatus'] == 'semi-furnished']['price']\n",
    "unfurnished = data[data['furnishingstatus'] == 'unfurnished']['price']\n",
    "\n",
    "# Lakukan uji ANOVA\n",
    "f_statistic, p_value = stats.f_oneway(furnished, semi_furnished, unfurnished)\n",
    "\n",
    "# Tentukan tingkat signifikansi (alpha)\n",
    "alpha = 0.05\n",
    "\n",
    "# Output hasil uji statistik\n",
    "print(f'F-statistic: {f_statistic:.2f}')\n",
    "print(f'p-value: {p_value:.4f}')\n",
    "print(f\"alpha: {alpha}\")\n",
    "print(\"--\"*30)\n",
    "\n",
    "# Pengambilan keputusan\n",
    "if p_value < alpha:\n",
    "    print(\"Tolak H0. Ada perbedaan harga rata-rata yang signifikan antara kelompok furnishing status.\")\n",
    "else:\n",
    "    print(\"Gagal tolak H0. Tidak ada cukup bukti untuk menyatakan perbedaan harga rata-rata yang signifikan.\")\n"
   ]
  },
  {
   "cell_type": "markdown",
   "id": "16180fc6",
   "metadata": {},
   "source": [
    "#### Konfirmasi perbedaan harga furniture status menggunakan visualisasi"
   ]
  },
  {
   "cell_type": "code",
   "execution_count": 15,
   "id": "6ab192a9",
   "metadata": {},
   "outputs": [
    {
     "data": {
      "image/png": "[encoded data removed]",
      "text/plain": [
       "<Figure size 576x432 with 1 Axes>"
      ]
     },
     "metadata": {
      "needs_background": "light"
     },
     "output_type": "display_data"
    }
   ],
   "source": [
    "# Hitung rata-rata harga untuk setiap kelompok furnishing status\n",
    "mean_prices = data.groupby('furnishingstatus')['price'].mean().reset_index()\n",
    "\n",
    "# Plot\n",
    "plt.figure(figsize=(8, 6))\n",
    "bars = plt.bar(mean_prices['furnishingstatus'], mean_prices['price'])\n",
    "plt.title('Rata-rata Harga Berdasarkan Furnishing Status')\n",
    "plt.xlabel('Furnishing Status')\n",
    "plt.ylabel('Rata-rata Harga')\n",
    "\n",
    "# Tambahkan label nilai di atas setiap batang\n",
    "for bar in bars:\n",
    "    height = bar.get_height()\n",
    "    plt.annotate(f'{height:.2f}', # Format nilai dengan 2 desimal\n",
    "                 xy=(bar.get_x() + bar.get_width() / 2, height), # Titik tengah batang\n",
    "                 xytext=(0, 3),  # Jarak vertikal label dari batang\n",
    "                 textcoords='offset points',\n",
    "                 ha='center', va='bottom')\n",
    "\n",
    "plt.show()\n"
   ]
  },
  {
   "cell_type": "markdown",
   "id": "7f7e8e63",
   "metadata": {},
   "source": [
    "## Building Regression Model:"
   ]
  },
  {
   "cell_type": "markdown",
   "id": "1e40854c",
   "metadata": {},
   "source": [
    "### 1. Prediksi harga berdasarkan area\n",
    "Ini merupakan contoh linear regression dengan satu prediktor."
   ]
  },
  {
   "cell_type": "code",
   "execution_count": 16,
   "id": "960438f4",
   "metadata": {},
   "outputs": [],
   "source": [
    "def print_coef_std_err(results):\n",
    "    \"\"\"\n",
    "    Function to combine estimated coefficients and standard error in one DataFrame\n",
    "    :param results: <statsmodels RegressionResultsWrapper> OLS regression results from \n",
    "    :return df: <pandas DataFrame> \n",
    "    \"\"\"\n",
    "    coef = results.params\n",
    "    std_err = results.bse\n",
    "    \n",
    "    df = pd.DataFrame(data = np.transpose([coef, std_err]), \n",
    "                      index = coef.index, \n",
    "                      columns=[\"coef\",\"std err\"])\n",
    "    return df"
   ]
  },
  {
   "cell_type": "markdown",
   "id": "856d7c54",
   "metadata": {},
   "source": [
    "**Visualisasikan Data**"
   ]
  },
  {
   "cell_type": "code",
   "execution_count": 17,
   "id": "ab68cbd6",
   "metadata": {},
   "outputs": [
    {
     "data": {
      "image/png": "[encoded data removed]",
      "text/plain": [
       "<Figure size 432x288 with 1 Axes>"
      ]
     },
     "metadata": {
      "needs_background": "light"
     },
     "output_type": "display_data"
    }
   ],
   "source": [
    "# Memisahkan variabel X (area) dan Y (price)\n",
    "X = data['area'].values.reshape(-1, 1)\n",
    "Y = data['price'].values.reshape(-1, 1)\n",
    "\n",
    "# Plot the data\n",
    "plt.scatter(X, Y, color = \"k\", marker=\".\")\n",
    "\n",
    "# Add a legend and labels\n",
    "\n",
    "plt.xlabel(\"area\")\n",
    "plt.ylabel(\"price\")\n",
    "\n",
    "# Add a title and adjust the margins\n",
    "plt.title(\"Data\")\n",
    "\n",
    "# Show the plot\n",
    "plt.show()"
   ]
  },
  {
   "cell_type": "markdown",
   "id": "ef92b047",
   "metadata": {},
   "source": [
    "**Fit linear Regression**"
   ]
  },
  {
   "cell_type": "markdown",
   "id": "e4a0aa14",
   "metadata": {},
   "source": [
    "- Build model using ols"
   ]
  },
  {
   "cell_type": "code",
   "execution_count": 18,
   "id": "62fc8aab",
   "metadata": {},
   "outputs": [],
   "source": [
    "# Create OLS model object\n",
    "model = smf.ols(\"price ~ area\", data)\n",
    "\n",
    "# Fit the model\n",
    "results = model.fit()\n",
    "\n",
    "# Extract the results (Coefficient and Standard Error) to DataFrame\n",
    "results_data = print_coef_std_err(results)"
   ]
  },
  {
   "cell_type": "markdown",
   "id": "54f71e91",
   "metadata": {},
   "source": [
    "- Visualize the data and the regression line"
   ]
  },
  {
   "cell_type": "code",
   "execution_count": 19,
   "id": "7a081cd0",
   "metadata": {
    "scrolled": true
   },
   "outputs": [
    {
     "data": {
      "image/png": "[encoded data removed]",
      "text/plain": [
       "<Figure size 432x288 with 1 Axes>"
      ]
     },
     "metadata": {
      "needs_background": "light"
     },
     "output_type": "display_data"
    }
   ],
   "source": [
    "predictor = \"area\"\n",
    "outcome = \"price\"\n",
    "results_ = results_data.copy()\n",
    "\n",
    "# Plot the data\n",
    "plt.scatter(data[predictor], data[outcome], color = \"k\", marker=\".\")\n",
    "\n",
    "# Calculate the fitted values\n",
    "a_hat = results_.loc[\"Intercept\"][\"coef\"]\n",
    "b_hat = results_.loc[predictor][\"coef\"]\n",
    "\n",
    "x_domain = np.linspace(np.min(data[predictor]), np.max(data[predictor]), 10000)\n",
    "\n",
    "fitted_values = a_hat + b_hat * x_domain\n",
    "\n",
    "# Plot the fitted line\n",
    "plt.plot(x_domain, fitted_values, label=\"Fitted line\", color = \"b\")\n",
    "\n",
    "# Add a legend and labels\n",
    "plt.legend()\n",
    "plt.ylabel(\"price\")\n",
    "plt.xlabel(\"area\")\n",
    "\n",
    "# Add a title and adjust the margins\n",
    "plt.title(\"Data and fitted regression line\")\n",
    "\n",
    "# Show the plot\n",
    "plt.show()"
   ]
  },
  {
   "cell_type": "markdown",
   "id": "f00fd8d4",
   "metadata": {},
   "source": [
    "**Coefficient Interpretation** "
   ]
  },
  {
   "cell_type": "code",
   "execution_count": 20,
   "id": "dc9fb7f3",
   "metadata": {},
   "outputs": [
    {
     "data": {
      "text/html": [
       "<div>\n",
       "<style scoped>\n",
       "    .dataframe tbody tr th:only-of-type {\n",
       "        vertical-align: middle;\n",
       "    }\n",
       "\n",
       "    .dataframe tbody tr th {\n",
       "        vertical-align: top;\n",
       "    }\n",
       "\n",
       "    .dataframe thead th {\n",
       "        text-align: right;\n",
       "    }\n",
       "</style>\n",
       "<table border=\"1\" class=\"dataframe\">\n",
       "  <thead>\n",
       "    <tr style=\"text-align: right;\">\n",
       "      <th></th>\n",
       "      <th>coef</th>\n",
       "      <th>std err</th>\n",
       "    </tr>\n",
       "  </thead>\n",
       "  <tbody>\n",
       "    <tr>\n",
       "      <th>Intercept</th>\n",
       "      <td>2.387308e+06</td>\n",
       "      <td>174497.798084</td>\n",
       "    </tr>\n",
       "    <tr>\n",
       "      <th>area</th>\n",
       "      <td>4.619749e+02</td>\n",
       "      <td>31.225636</td>\n",
       "    </tr>\n",
       "  </tbody>\n",
       "</table>\n",
       "</div>"
      ],
      "text/plain": [
       "                   coef        std err\n",
       "Intercept  2.387308e+06  174497.798084\n",
       "area       4.619749e+02      31.225636"
      ]
     },
     "execution_count": 20,
     "metadata": {},
     "output_type": "execute_result"
    }
   ],
   "source": [
    "results_data"
   ]
  },
  {
   "cell_type": "markdown",
   "id": "f9a092bd",
   "metadata": {},
   "source": [
    "$$ y = 2387308 + 461x $$"
   ]
  },
  {
   "cell_type": "markdown",
   "id": "05050f13",
   "metadata": {},
   "source": [
    "- Rata-rata harga rumah ketika luas areanya 0 adalah 2387308\n",
    "- Rata-rata perbedaan harga antara dua rumah dengan perbedaan satu satuan luas area adalah 461974 "
   ]
  },
  {
   "cell_type": "markdown",
   "id": "2d4bee85",
   "metadata": {},
   "source": [
    "**Scale Better unit for Price**\n",
    "\n",
    "Nilai harga rumah dalam jutaan agak sulit dibaca, mari kita ubah nilai pada kolom price ke bentuk ribuan."
   ]
  },
  {
   "cell_type": "code",
   "execution_count": 21,
   "id": "a3b9e82d",
   "metadata": {},
   "outputs": [],
   "source": [
    "data[\"priceK\"] = data[\"price\"]/1000"
   ]
  },
  {
   "cell_type": "code",
   "execution_count": 22,
   "id": "29572e6d",
   "metadata": {},
   "outputs": [
    {
     "data": {
      "text/html": [
       "<div>\n",
       "<style scoped>\n",
       "    .dataframe tbody tr th:only-of-type {\n",
       "        vertical-align: middle;\n",
       "    }\n",
       "\n",
       "    .dataframe tbody tr th {\n",
       "        vertical-align: top;\n",
       "    }\n",
       "\n",
       "    .dataframe thead th {\n",
       "        text-align: right;\n",
       "    }\n",
       "</style>\n",
       "<table border=\"1\" class=\"dataframe\">\n",
       "  <thead>\n",
       "    <tr style=\"text-align: right;\">\n",
       "      <th></th>\n",
       "      <th>coef</th>\n",
       "      <th>std err</th>\n",
       "    </tr>\n",
       "  </thead>\n",
       "  <tbody>\n",
       "    <tr>\n",
       "      <th>Intercept</th>\n",
       "      <td>2387.308482</td>\n",
       "      <td>174.497798</td>\n",
       "    </tr>\n",
       "    <tr>\n",
       "      <th>area</th>\n",
       "      <td>0.461975</td>\n",
       "      <td>0.031226</td>\n",
       "    </tr>\n",
       "  </tbody>\n",
       "</table>\n",
       "</div>"
      ],
      "text/plain": [
       "                  coef     std err\n",
       "Intercept  2387.308482  174.497798\n",
       "area          0.461975    0.031226"
      ]
     },
     "execution_count": 22,
     "metadata": {},
     "output_type": "execute_result"
    }
   ],
   "source": [
    "# Create OLS model object\n",
    "model = smf.ols(\"priceK ~ area\", data)\n",
    "\n",
    "# Fit the model\n",
    "results_scaled = model.fit()\n",
    "\n",
    "# Extract the results (Coefficient and Standard Error) to DataFrame\n",
    "results_scaled_data = print_coef_std_err(results_scaled)\n",
    "results_scaled_data"
   ]
  },
  {
   "cell_type": "markdown",
   "id": "cff4083a",
   "metadata": {},
   "source": [
    "$$ y = 2387 + 0.461x $$"
   ]
  },
  {
   "cell_type": "markdown",
   "id": "9120089a",
   "metadata": {},
   "source": [
    "- Rata-rata harga rumah ketika luas areanya 0 adalah 2387 ribu dolar\n",
    "- Rata-rata perbedaan harga antara dua rumah dengan perbedaan satu satuan luas area adalah 0.46 ribu dolar"
   ]
  },
  {
   "cell_type": "markdown",
   "id": "69d0b32a",
   "metadata": {},
   "source": [
    "#### Performance Before and After Standardization"
   ]
  },
  {
   "cell_type": "code",
   "execution_count": 23,
   "id": "b43d998a",
   "metadata": {},
   "outputs": [
    {
     "data": {
      "text/plain": [
       "0.2872931546811468"
      ]
     },
     "execution_count": 23,
     "metadata": {},
     "output_type": "execute_result"
    }
   ],
   "source": [
    "# R-squared before scalling\n",
    "results.rsquared"
   ]
  },
  {
   "cell_type": "code",
   "execution_count": 24,
   "id": "ca654d60",
   "metadata": {},
   "outputs": [
    {
     "data": {
      "text/plain": [
       "0.2872931546811468"
      ]
     },
     "execution_count": 24,
     "metadata": {},
     "output_type": "execute_result"
    }
   ],
   "source": [
    "# R-squared after scalling\n",
    "results_scaled.rsquared"
   ]
  },
  {
   "cell_type": "markdown",
   "id": "1c487f4a",
   "metadata": {},
   "source": [
    "- Performa model sebelum dan sesudah scalling sama, tidak ada perbedaan sama sekali. Namun bisa mempermudah menginterpretasi model. Karena pada bentuk awal rawan salah interpretasi."
   ]
  },
  {
   "cell_type": "markdown",
   "id": "2e3ca8df",
   "metadata": {},
   "source": [
    "### 2. Prediksi harga berdasarkan luas area dan apakah ada AC atau tidak\n",
    "contoh linear regression dengan multiple prediktor"
   ]
  },
  {
   "cell_type": "markdown",
   "id": "69eb9cbd",
   "metadata": {},
   "source": [
    "- Label Encode kolom airconditioning"
   ]
  },
  {
   "cell_type": "code",
   "execution_count": 25,
   "id": "7efc3667",
   "metadata": {},
   "outputs": [
    {
     "data": {
      "text/html": [
       "<div>\n",
       "<style scoped>\n",
       "    .dataframe tbody tr th:only-of-type {\n",
       "        vertical-align: middle;\n",
       "    }\n",
       "\n",
       "    .dataframe tbody tr th {\n",
       "        vertical-align: top;\n",
       "    }\n",
       "\n",
       "    .dataframe thead th {\n",
       "        text-align: right;\n",
       "    }\n",
       "</style>\n",
       "<table border=\"1\" class=\"dataframe\">\n",
       "  <thead>\n",
       "    <tr style=\"text-align: right;\">\n",
       "      <th></th>\n",
       "      <th>airconditioning</th>\n",
       "      <th>priceK</th>\n",
       "    </tr>\n",
       "  </thead>\n",
       "  <tbody>\n",
       "    <tr>\n",
       "      <th>0</th>\n",
       "      <td>1</td>\n",
       "      <td>13300.0</td>\n",
       "    </tr>\n",
       "    <tr>\n",
       "      <th>1</th>\n",
       "      <td>1</td>\n",
       "      <td>12250.0</td>\n",
       "    </tr>\n",
       "    <tr>\n",
       "      <th>2</th>\n",
       "      <td>0</td>\n",
       "      <td>12250.0</td>\n",
       "    </tr>\n",
       "    <tr>\n",
       "      <th>3</th>\n",
       "      <td>1</td>\n",
       "      <td>12215.0</td>\n",
       "    </tr>\n",
       "    <tr>\n",
       "      <th>4</th>\n",
       "      <td>1</td>\n",
       "      <td>11410.0</td>\n",
       "    </tr>\n",
       "  </tbody>\n",
       "</table>\n",
       "</div>"
      ],
      "text/plain": [
       "   airconditioning   priceK\n",
       "0                1  13300.0\n",
       "1                1  12250.0\n",
       "2                0  12250.0\n",
       "3                1  12215.0\n",
       "4                1  11410.0"
      ]
     },
     "execution_count": 25,
     "metadata": {},
     "output_type": "execute_result"
    }
   ],
   "source": [
    "data[\"airconditioning\"] = LabelEncoder().fit_transform(data[\"airconditioning\"])\n",
    "\n",
    "# Display the 5th first row after transforming\n",
    "data[[\"airconditioning\", \"priceK\"]].head()"
   ]
  },
  {
   "cell_type": "markdown",
   "id": "31fc226a",
   "metadata": {},
   "source": [
    "- Fit Linear regression"
   ]
  },
  {
   "cell_type": "code",
   "execution_count": 26,
   "id": "4d3e782b",
   "metadata": {},
   "outputs": [],
   "source": [
    "# Create OLS model object\n",
    "model = smf.ols('priceK ~ area + airconditioning', data)\n",
    "\n",
    "# Fit the model\n",
    "results = model.fit()\n",
    "\n",
    "# Extract the results (Coefficient and Standard Error) to DataFrame\n",
    "results_price_area_ac = print_coef_std_err(results)"
   ]
  },
  {
   "cell_type": "markdown",
   "id": "2e436ebd",
   "metadata": {},
   "source": [
    "- Visualize the data and regression line"
   ]
  },
  {
   "cell_type": "code",
   "execution_count": 27,
   "id": "195ffd7e",
   "metadata": {},
   "outputs": [
    {
     "data": {
      "image/png": "[encoded data removed]",
      "text/plain": [
       "<Figure size 432x288 with 1 Axes>"
      ]
     },
     "metadata": {
      "needs_background": "light"
     },
     "output_type": "display_data"
    }
   ],
   "source": [
    "predictors = [\"area\",\"airconditioning\"]\n",
    "outcome = \"priceK\"\n",
    "results_ = results_price_area_ac.copy()\n",
    "linestyles = {0 : \"--\", 1: \"-\"}\n",
    "c = {0 : \"b\", 1: \"g\"}\n",
    "markers = {0 : \".\", 1: \"+\"}\n",
    "\n",
    "# Plot the data\n",
    "for i in range(2):\n",
    "    plt.scatter(data[data[predictors[1]]==i][predictors[0]], data[data[predictors[1]]==i][outcome], \n",
    "                color = c[i], \n",
    "                marker = markers[i])\n",
    "    \n",
    "x_domain = np.linspace(np.min(data[predictors[0]]), np.max(data[predictors[0]]), 100)\n",
    "\n",
    "\n",
    "# Calculate the fitted values for two lines regarding the mom_hs\n",
    "beta0_hat = results_.loc[\"Intercept\"][\"coef\"]\n",
    "beta1_hat = results_.loc[predictors[0]][\"coef\"]\n",
    "beta2_hat = results_.loc[predictors[1]][\"coef\"]\n",
    "\n",
    "fitted_values = [beta0_hat +  beta1_hat * x_domain  + beta2_hat * i for i in range(2)]\n",
    "\n",
    "\n",
    "# Plot two fitted line\n",
    "for i in range(2):\n",
    "    plt.plot(x_domain, fitted_values[i], c = c[i], label = f\"Fitted line (AC={i})\", linestyle = linestyles[i])\n",
    "\n",
    "# Add a legend and labels\n",
    "plt.legend()\n",
    "plt.ylabel(f\"{outcome}\")\n",
    "plt.xlabel(f\"{predictors[0]}\")\n",
    "\n",
    "# Add a title and adjust the margins\n",
    "plt.title(\"Data and fitted regression line\")\n",
    "\n",
    "# Show the plot\n",
    "plt.show()"
   ]
  },
  {
   "cell_type": "markdown",
   "id": "be753050",
   "metadata": {},
   "source": [
    "### Memasukkan interation antara kolom area dan AC"
   ]
  },
  {
   "cell_type": "markdown",
   "id": "dd791696",
   "metadata": {},
   "source": [
    "- Fit Linear regression"
   ]
  },
  {
   "cell_type": "code",
   "execution_count": 28,
   "id": "06b95ce9",
   "metadata": {},
   "outputs": [],
   "source": [
    "# Create OLS model object\n",
    "model = smf.ols('priceK ~ area + airconditioning + airconditioning:area', data)\n",
    "\n",
    "# Fit the model\n",
    "results = model.fit()\n",
    "\n",
    "# Extract the results (Coefficient and Standard Error) to DataFrame\n",
    "results_price_area_ac = print_coef_std_err(results)"
   ]
  },
  {
   "cell_type": "markdown",
   "id": "4191b9a4",
   "metadata": {},
   "source": [
    "- Visualize the data and regression line"
   ]
  },
  {
   "cell_type": "code",
   "execution_count": 29,
   "id": "ae87c636",
   "metadata": {},
   "outputs": [
    {
     "data": {
      "image/png": "[encoded data removed]",
      "text/plain": [
       "<Figure size 432x288 with 1 Axes>"
      ]
     },
     "metadata": {
      "needs_background": "light"
     },
     "output_type": "display_data"
    }
   ],
   "source": [
    "predictors = [\"area\",\"airconditioning\", \"airconditioning:area\"]\n",
    "outcome = \"priceK\"\n",
    "results_ = results_price_area_ac.copy()\n",
    "linestyles = {0 : \"--\", 1: \"-\"}\n",
    "c = {0 : \"b\", 1: \"g\"}\n",
    "markers = {0 : \".\", 1: \"+\"}\n",
    "\n",
    "# Plot the data\n",
    "for i in range(2):\n",
    "    plt.scatter(data[data[predictors[1]]==i][predictors[0]], data[data[predictors[1]]==i][outcome], \n",
    "                color = c[i], marker = markers[i])\n",
    "\n",
    "# Calculate the fitted values for two lines regarding the mom_hs\n",
    "beta0_hat = results_.loc[\"Intercept\"][\"coef\"]\n",
    "beta1_hat = results_.loc[predictors[0]][\"coef\"]\n",
    "beta2_hat = results_.loc[predictors[1]][\"coef\"]\n",
    "beta3_hat = results_.loc[predictors[2]][\"coef\"]\n",
    "\n",
    "fitted_values = [beta0_hat +  beta1_hat * x_domain  + beta2_hat * i + beta3_hat * i * x_domain for i in range(2)]\n",
    "\n",
    "x_domain = np.linspace(np.min(data[predictors[0]]), np.max(data[predictors[0]]), 100)\n",
    "\n",
    "# Plot two fitted line\n",
    "for i in range(2):\n",
    "    plt.plot(x_domain, fitted_values[i], c = c[i], label = f\"Fitted line (AC={i})\", linestyle = linestyles[i])\n",
    "\n",
    "# Add a legend and labels\n",
    "plt.legend()\n",
    "plt.ylabel(f\"{outcome}\")\n",
    "plt.xlabel(f\"{predictors[0]}\")\n",
    "\n",
    "# Add a title and adjust the margins\n",
    "plt.title(\"Data and fitted regression line\")\n",
    "\n",
    "# Show the plot\n",
    "plt.show()"
   ]
  },
  {
   "cell_type": "markdown",
   "id": "e8b9023f",
   "metadata": {},
   "source": [
    "### Coefficient Interpretation "
   ]
  },
  {
   "cell_type": "code",
   "execution_count": 30,
   "id": "5b4b20fe",
   "metadata": {},
   "outputs": [
    {
     "data": {
      "text/html": [
       "<div>\n",
       "<style scoped>\n",
       "    .dataframe tbody tr th:only-of-type {\n",
       "        vertical-align: middle;\n",
       "    }\n",
       "\n",
       "    .dataframe tbody tr th {\n",
       "        vertical-align: top;\n",
       "    }\n",
       "\n",
       "    .dataframe thead th {\n",
       "        text-align: right;\n",
       "    }\n",
       "</style>\n",
       "<table border=\"1\" class=\"dataframe\">\n",
       "  <thead>\n",
       "    <tr style=\"text-align: right;\">\n",
       "      <th></th>\n",
       "      <th>coef</th>\n",
       "      <th>std err</th>\n",
       "    </tr>\n",
       "  </thead>\n",
       "  <tbody>\n",
       "    <tr>\n",
       "      <th>Intercept</th>\n",
       "      <td>2497.870807</td>\n",
       "      <td>181.269487</td>\n",
       "    </tr>\n",
       "    <tr>\n",
       "      <th>area</th>\n",
       "      <td>0.351240</td>\n",
       "      <td>0.034259</td>\n",
       "    </tr>\n",
       "    <tr>\n",
       "      <th>airconditioning</th>\n",
       "      <td>530.746328</td>\n",
       "      <td>388.928791</td>\n",
       "    </tr>\n",
       "    <tr>\n",
       "      <th>airconditioning:area</th>\n",
       "      <td>0.158025</td>\n",
       "      <td>0.065347</td>\n",
       "    </tr>\n",
       "  </tbody>\n",
       "</table>\n",
       "</div>"
      ],
      "text/plain": [
       "                             coef     std err\n",
       "Intercept             2497.870807  181.269487\n",
       "area                     0.351240    0.034259\n",
       "airconditioning        530.746328  388.928791\n",
       "airconditioning:area     0.158025    0.065347"
      ]
     },
     "execution_count": 30,
     "metadata": {},
     "output_type": "execute_result"
    }
   ],
   "source": [
    "results_price_area_ac"
   ]
  },
  {
   "cell_type": "markdown",
   "id": "d20eaf56",
   "metadata": {},
   "source": [
    "$$\\text{price} = 2497 + 0.35\\text{ area} + 530\\text{ airconditioning} + 0.16\\text{ aircondotioning*area}$$"
   ]
  },
  {
   "cell_type": "markdown",
   "id": "ffd8a48e",
   "metadata": {},
   "source": [
    "$$\\text{AC}=0, \\text{ price} = 2497 + 0.35\\text{ area}$$\n",
    "- Estimasi perbedaan harga rumah yang tidak ada AC tetapi berbeda satu satuan luas area adalah 0.35 ribu dollar atau 350 dollar\n",
    "\n",
    "$$\\text{AC}=1, \\text{ price} = 3027 + 0.51 \\text{ area}$$\n",
    "- Estimasi perbedaan harga rumah yang ada AC tetapi berbeda satu satuan luas area adalah 0.51 ribu dollar atau 510 dollar\n"
   ]
  },
  {
   "cell_type": "markdown",
   "id": "7c8d5322",
   "metadata": {},
   "source": [
    "### 3. Prediksi harga berdasarkan area dan furnishing status\n",
    "Linear Regression dengan Transformasi"
   ]
  },
  {
   "cell_type": "code",
   "execution_count": 31,
   "id": "eaa82d60",
   "metadata": {},
   "outputs": [
    {
     "data": {
      "text/html": [
       "<div>\n",
       "<style scoped>\n",
       "    .dataframe tbody tr th:only-of-type {\n",
       "        vertical-align: middle;\n",
       "    }\n",
       "\n",
       "    .dataframe tbody tr th {\n",
       "        vertical-align: top;\n",
       "    }\n",
       "\n",
       "    .dataframe thead th {\n",
       "        text-align: right;\n",
       "    }\n",
       "</style>\n",
       "<table border=\"1\" class=\"dataframe\">\n",
       "  <thead>\n",
       "    <tr style=\"text-align: right;\">\n",
       "      <th></th>\n",
       "      <th>coef</th>\n",
       "      <th>std err</th>\n",
       "    </tr>\n",
       "  </thead>\n",
       "  <tbody>\n",
       "    <tr>\n",
       "      <th>Intercept</th>\n",
       "      <td>3050.661639</td>\n",
       "      <td>216.999265</td>\n",
       "    </tr>\n",
       "    <tr>\n",
       "      <th>C(furnishingstatus)[T.semi-furnished]</th>\n",
       "      <td>-363.892474</td>\n",
       "      <td>165.034605</td>\n",
       "    </tr>\n",
       "    <tr>\n",
       "      <th>C(furnishingstatus)[T.unfurnished]</th>\n",
       "      <td>-1060.393894</td>\n",
       "      <td>175.263337</td>\n",
       "    </tr>\n",
       "    <tr>\n",
       "      <th>area</th>\n",
       "      <td>0.429851</td>\n",
       "      <td>0.030653</td>\n",
       "    </tr>\n",
       "  </tbody>\n",
       "</table>\n",
       "</div>"
      ],
      "text/plain": [
       "                                              coef     std err\n",
       "Intercept                              3050.661639  216.999265\n",
       "C(furnishingstatus)[T.semi-furnished]  -363.892474  165.034605\n",
       "C(furnishingstatus)[T.unfurnished]    -1060.393894  175.263337\n",
       "area                                      0.429851    0.030653"
      ]
     },
     "execution_count": 31,
     "metadata": {},
     "output_type": "execute_result"
    }
   ],
   "source": [
    "# Create OLS model object\n",
    "model = smf.ols('priceK ~ area + C(furnishingstatus)', data)\n",
    "\n",
    "# Fit the model\n",
    "results_init_model = model.fit()\n",
    "\n",
    "# Extract the results (Coefficient and Standard Error) to DataFrame\n",
    "results_price_area_fs = print_coef_std_err(results_init_model)\n",
    "results_price_area_fs"
   ]
  },
  {
   "cell_type": "markdown",
   "id": "82e7d49a",
   "metadata": {},
   "source": [
    "Pada model ini, ``furnishing status = furnished'' menjadi baseline\n",
    "\n",
    "- Intercept 3050 (ribu) adalah harga rata-rata properti dengan ``furnishing status = furnished`` dan memiliki area = 0 (not a meaningfull scenario)\n",
    "- Koefisien ``furnishing status = semi-furnished``, prediksi perbedaan harga ``furnishing status = furnished``dan ``furnishing status = semi-furnished`` yang memiliki area = 0, adalah -363 ribu dollar (lebih murah 363 ribu)\n",
    "- Koefisien ``furnishing status = unfurnished``, prediksi perbedaan harga ``furnishing status = furnished``dan ``furnishing status = unfurnished`` yang memiliki area = 0, adalah -1060 ribu dollar (lebih murah 1060 ribu)"
   ]
  },
  {
   "cell_type": "markdown",
   "id": "a4571ba9",
   "metadata": {},
   "source": [
    "Intercept ini memiliki insight yang kurang tepat karena memprediksi area = 0"
   ]
  },
  {
   "cell_type": "markdown",
   "id": "6831c9b7",
   "metadata": {},
   "source": [
    "#### Improve Coeficient Interpretation dengan Standardization"
   ]
  },
  {
   "cell_type": "code",
   "execution_count": 32,
   "id": "f53659bb",
   "metadata": {},
   "outputs": [],
   "source": [
    "mean_area = data[\"area\"].mean()\n",
    "std_area = data[\"area\"].std()\n",
    "area = data[\"area\"]\n",
    "\n",
    "data[\"z_area\"] = (area-mean_area)/std_area"
   ]
  },
  {
   "cell_type": "code",
   "execution_count": 33,
   "id": "ec2d33fd",
   "metadata": {},
   "outputs": [
    {
     "name": "stdout",
     "output_type": "stream",
     "text": [
      "standar deviasi area = 2170.141022508803\n"
     ]
    }
   ],
   "source": [
    "print(f\"standar deviasi area = {std_area}\")"
   ]
  },
  {
   "cell_type": "code",
   "execution_count": 34,
   "id": "c41f7f8d",
   "metadata": {},
   "outputs": [
    {
     "data": {
      "text/html": [
       "<div>\n",
       "<style scoped>\n",
       "    .dataframe tbody tr th:only-of-type {\n",
       "        vertical-align: middle;\n",
       "    }\n",
       "\n",
       "    .dataframe tbody tr th {\n",
       "        vertical-align: top;\n",
       "    }\n",
       "\n",
       "    .dataframe thead th {\n",
       "        text-align: right;\n",
       "    }\n",
       "</style>\n",
       "<table border=\"1\" class=\"dataframe\">\n",
       "  <thead>\n",
       "    <tr style=\"text-align: right;\">\n",
       "      <th></th>\n",
       "      <th>coef</th>\n",
       "      <th>std err</th>\n",
       "    </tr>\n",
       "  </thead>\n",
       "  <tbody>\n",
       "    <tr>\n",
       "      <th>Intercept</th>\n",
       "      <td>5264.625954</td>\n",
       "      <td>130.229825</td>\n",
       "    </tr>\n",
       "    <tr>\n",
       "      <th>C(furnishingstatus)[T.semi-furnished]</th>\n",
       "      <td>-363.892474</td>\n",
       "      <td>165.034605</td>\n",
       "    </tr>\n",
       "    <tr>\n",
       "      <th>C(furnishingstatus)[T.unfurnished]</th>\n",
       "      <td>-1060.393894</td>\n",
       "      <td>175.263337</td>\n",
       "    </tr>\n",
       "    <tr>\n",
       "      <th>z_area</th>\n",
       "      <td>932.836864</td>\n",
       "      <td>66.521237</td>\n",
       "    </tr>\n",
       "  </tbody>\n",
       "</table>\n",
       "</div>"
      ],
      "text/plain": [
       "                                              coef     std err\n",
       "Intercept                              5264.625954  130.229825\n",
       "C(furnishingstatus)[T.semi-furnished]  -363.892474  165.034605\n",
       "C(furnishingstatus)[T.unfurnished]    -1060.393894  175.263337\n",
       "z_area                                  932.836864   66.521237"
      ]
     },
     "execution_count": 34,
     "metadata": {},
     "output_type": "execute_result"
    }
   ],
   "source": [
    "# Create OLS model object\n",
    "model = smf.ols('priceK ~ z_area + C(furnishingstatus)', data)\n",
    "\n",
    "# Fit the model\n",
    "results_std_model = model.fit()\n",
    "\n",
    "# Extract the results (Coefficient and Standard Error) to DataFrame\n",
    "results_price_area_fs = print_coef_std_err(results_std_model)\n",
    "results_price_area_fs"
   ]
  },
  {
   "cell_type": "markdown",
   "id": "5c822230",
   "metadata": {},
   "source": [
    "Koefisien z-area berubah setelah distandarisasi, tetapi koefisien furnising status tetap sama"
   ]
  },
  {
   "cell_type": "markdown",
   "id": "918330f9",
   "metadata": {},
   "source": [
    "### Koefisien Interpretasi\n",
    "- Intercept 5264 (ribu) adalah harga dengan ''furnishingstatus = furnished'' dan memiliki area rata-rata\n",
    "- Koefisien z_area, presiksi perbedaan harga ''furnishingstatus = furnished'' dengan perbedaan 1 standar deviasi atau 2170 area adalah 932 (ribu). "
   ]
  },
  {
   "cell_type": "markdown",
   "id": "eb24118d",
   "metadata": {},
   "source": [
    "#### Performance Before and After transformation"
   ]
  },
  {
   "cell_type": "code",
   "execution_count": 35,
   "id": "d3b3d48b",
   "metadata": {},
   "outputs": [
    {
     "data": {
      "text/plain": [
       "0.33587340586567804"
      ]
     },
     "execution_count": 35,
     "metadata": {},
     "output_type": "execute_result"
    }
   ],
   "source": [
    "# R-squared before transformation\n",
    "results_init_model.rsquared"
   ]
  },
  {
   "cell_type": "code",
   "execution_count": 36,
   "id": "7bf0f4d3",
   "metadata": {},
   "outputs": [
    {
     "data": {
      "text/plain": [
       "0.33587340586567804"
      ]
     },
     "execution_count": 36,
     "metadata": {},
     "output_type": "execute_result"
    }
   ],
   "source": [
    "# R-squared after transformation\n",
    "results_std_model.rsquared"
   ]
  },
  {
   "cell_type": "markdown",
   "id": "0d67ab27",
   "metadata": {},
   "source": [
    "- Performa model sebelum dan sesudah tranformasi tetap sama, tidak ada perbedaan sama sekali. \n",
    "- Namun bisa mempermudah menginterpretasi model."
   ]
  },
  {
   "cell_type": "markdown",
   "id": "1fd65995",
   "metadata": {},
   "source": [
    "### Make Conclusions and Recommendations:"
   ]
  },
  {
   "cell_type": "markdown",
   "id": "854fc918",
   "metadata": {},
   "source": [
    "### Conclusion\n",
    "- Prediksi harga berdasarkan area.\n",
    "    Harga berkorelasi positif dengan area. Semakin tinggi (luas) area, harganya juga mengalami kenaikan.\n",
    "- Prediksi harga berdasarkan area dan apakah ada AC atau tidak.\n",
    "    Harga berkorelasi positif dengan area dan adanya fasilitas AC. Jika ada AC maka harganya akan semakin naik.\n",
    "- Prediksi harga berdasarkan area dan furnishing status\n",
    "    Harga berkorelasi positif dengan area dan furnitured. Rumah yang masih semi-furnitured dan unfurnitured harganya akan semakin murah."
   ]
  },
  {
   "cell_type": "markdown",
   "id": "128e88e0",
   "metadata": {},
   "source": [
    "### Recommendation\n",
    "- Pembeli bisa memprediksi harga rumah berdasarkan area, airconditioning, dan furnishing status. Agar bisa membeli properti dengan harga yang sesuai.\n",
    "- Penjual juga bisa menentukan harga yang adil bagi penjual dan pembeli agar sama-sama untung.\n",
    "- Melakukan penelitian lebih lanjut untuk melihat hubungan harga dengan fitur-fitur lainnya."
   ]
  },
  {
   "cell_type": "markdown",
   "id": "d986b427",
   "metadata": {},
   "source": [
    "### Reference\n",
    "- Statistic for Business - Pacmann.io\n",
    "- Housing Prices Dataset - Kaggle"
   ]
  },
  {
   "cell_type": "code",
   "execution_count": null,
   "id": "15ca05fe",
   "metadata": {},
   "outputs": [],
   "source": []
  }
 ],
 "metadata": {
  "kernelspec": {
   "display_name": "Python 3",
   "language": "python",
   "name": "python3"
  },
  "language_info": {
   "codemirror_mode": {
    "name": "ipython",
    "version": 3
   },
   "file_extension": ".py",
   "mimetype": "text/x-python",
   "name": "python",
   "nbconvert_exporter": "python",
   "pygments_lexer": "ipython3",
   "version": "3.8.8"
  }
 },
 "nbformat": 4,
 "nbformat_minor": 5
}
